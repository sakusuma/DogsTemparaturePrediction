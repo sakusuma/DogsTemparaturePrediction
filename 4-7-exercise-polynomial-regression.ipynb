{
  "cells": [
    {
      "cell_type": "markdown",
      "source": [
        "# Exercise: Fitting a Polynomial Curve"
      ],
      "metadata": {},
      "id": "6d1109a5"
    },
    {
      "attachments": {},
      "cell_type": "markdown",
      "source": [
        "In this exercise, we'll have a look at a different type of regression called _polynomial regression_.\n",
        "In contrast to _linear regression_ ,which models relationships as straight lines, _polynomial regression_ models relationships as curves.\n",
        "\n",
        "Recall in our previous exercise how the relationship between `core_temperature` and `protein_content_of_last_meal` couldn't be properly explained using a straight line. In this exercise, we'll use _polynomial regression_ to fit a curve to the data instead.\n",
        "\n",
        "## Data visualization\n",
        "\n",
        "Let's start this exercise by loading and having a look at our data."
      ],
      "metadata": {},
      "id": "9efeb1ee"
    },
    {
      "cell_type": "code",
      "source": [
        "import pandas\n",
        "!pip install statsmodels\n",
        "!wget https://raw.githubusercontent.com/MicrosoftDocs/mslearn-introduction-to-machine-learning/main/graphing.py\n",
        "!wget https://raw.githubusercontent.com/MicrosoftDocs/mslearn-introduction-to-machine-learning/main/Data/doggy-illness.csv\n",
        "\n",
        "#Import the data from the .csv file\n",
        "dataset = pandas.read_csv('doggy-illness.csv', delimiter=\"\\t\")\n",
        "\n",
        "#Let's have a look at the data\n",
        "dataset"
      ],
      "outputs": [],
      "execution_count": null,
      "metadata": {
        "scrolled": true
      },
      "id": "0a2d409a"
    },
    {
      "attachments": {},
      "cell_type": "markdown",
      "source": [
        "# Simple Linear Regression\n",
        "\n",
        "Let's quickly jog our memory by performing the same _simple linear regression_ as we did in the previous exercise, using the `temperature` and `protein_content_of_last_meal` columns of the dataset. \n"
      ],
      "metadata": {},
      "id": "9272f22e"
    },
    {
      "cell_type": "code",
      "source": [
        "import statsmodels.formula.api as smf\n",
        "import graphing # custom graphing code. See our GitHub repo for details\n",
        "\n",
        "# Perform linear regression. This method takes care of\n",
        "# the entire fitting procedure for us.\n",
        "simple_formula = \"core_temperature ~ protein_content_of_last_meal\"\n",
        "simple_model = smf.ols(formula = simple_formula, data = dataset).fit()\n",
        "\n",
        "# Show a graph of the result\n",
        "graphing.scatter_2D(dataset, label_x=\"protein_content_of_last_meal\", \n",
        "                             label_y=\"core_temperature\",\n",
        "                             trendline=lambda x: simple_model.params[1] * x + simple_model.params[0])\n"
      ],
      "outputs": [],
      "execution_count": null,
      "metadata": {},
      "id": "76c68026"
    },
    {
      "attachments": {},
      "cell_type": "markdown",
      "source": [
        "Notice how the relationship between the two variables is not truly linear. Looking at the plot, it's fairly clear to see that the points tend more heavily towards one side of the line, especially for the higher `core-temperature` and `protein_content_of_last_meal` values. \n",
        "\n",
        "A straight line might not be the best way to describe this relationship.\n",
        "\n",
        "Let's have a quick look at the model's R-Squared score:"
      ],
      "metadata": {},
      "id": "a252489e"
    },
    {
      "cell_type": "code",
      "source": [
        "print(\"R-squared:\", simple_model.rsquared)"
      ],
      "outputs": [],
      "execution_count": null,
      "metadata": {},
      "id": "90292f2f"
    },
    {
      "attachments": {},
      "cell_type": "markdown",
      "source": [
        "That is quite a reasonable R-Squared score, but let's see if we can get an even better one!\n",
        "\n",
        "## Simple Polynomial Regression\n",
        "\n",
        "Let's fit a _simple polynomial regression_ this time. Similar to a _simple linear regression_, a _simple polynomial regression_ models the relationship between a label and a single feature. Unlike a _simple linear regression_, a _simple polynomial regression_ can explain relationships that aren't simply straight lines.\n",
        "\n",
        "In our example, we're going to use a three-parameter polynomial."
      ],
      "metadata": {},
      "id": "33c49c6f"
    },
    {
      "cell_type": "code",
      "source": [
        "# Perform polynomial regression. This method takes care of\n",
        "# the entire fitting procedure for us.\n",
        "polynomial_formula = \"core_temperature ~ protein_content_of_last_meal + I(protein_content_of_last_meal**2)\"\n",
        "polynomial_model = smf.ols(formula = polynomial_formula, data = dataset).fit()\n",
        "\n",
        "# Show a graph of the result\n",
        "graphing.scatter_2D(dataset, label_x=\"protein_content_of_last_meal\", \n",
        "                             label_y=\"core_temperature\",\n",
        "                             # Our trendline is the equation for the polynomial\n",
        "                             trendline=lambda x: polynomial_model.params[2] * x**2 + polynomial_model.params[1] * x + polynomial_model.params[0])\n"
      ],
      "outputs": [],
      "execution_count": null,
      "metadata": {},
      "id": "08dc5d87"
    },
    {
      "cell_type": "markdown",
      "source": [
        "That looks a lot better already. Let's confirm by having a quick look at the R-Squared score:"
      ],
      "metadata": {},
      "id": "08b07473"
    },
    {
      "cell_type": "code",
      "source": [
        "print(\"R-squared:\", polynomial_model.rsquared)"
      ],
      "outputs": [],
      "execution_count": null,
      "metadata": {},
      "id": "e0d5e4db"
    },
    {
      "attachments": {},
      "cell_type": "markdown",
      "source": [
        "That's a better R-Squared score than the one obtained from the previous model! We can now confidently tell our vet to prioritize dogs who ate a high-protein diet the night before. "
      ],
      "metadata": {},
      "id": "5c21dd2b"
    },
    {
      "cell_type": "markdown",
      "source": [
        "Let's chart our model as a 3D chart. We'll view $X$ and $X^2$ as two separate parameters. Notice that if you rotate the visual just right, our regression model is still a flat plane. This is why polynomial models are still considered to be `linear models`."
      ],
      "metadata": {},
      "id": "fb95e9a6"
    },
    {
      "cell_type": "code",
      "source": [
        "import numpy as np\n",
        "fig = graphing.surface(\n",
        "    x_values=np.array([min(dataset.protein_content_of_last_meal), max(dataset.protein_content_of_last_meal)]),\n",
        "    y_values=np.array([min(dataset.protein_content_of_last_meal)**2, max(dataset.protein_content_of_last_meal)**2]),\n",
        "    calc_z=lambda x,y: polynomial_model.params[0] + (polynomial_model.params[1] * x) + (polynomial_model.params[2] * y),\n",
        "    axis_title_x=\"x\",\n",
        "    axis_title_y=\"x2\",\n",
        "    axis_title_z=\"Core temperature\"\n",
        ")\n",
        "# Add our datapoints to it and display\n",
        "fig.add_scatter3d(x=dataset.protein_content_of_last_meal, y=dataset.protein_content_of_last_meal**2, z=dataset.core_temperature, mode='markers')\n",
        "fig.show()"
      ],
      "outputs": [],
      "execution_count": null,
      "metadata": {},
      "id": "5a9da888"
    },
    {
      "attachments": {},
      "cell_type": "markdown",
      "source": [
        "## Extrapolating\n",
        "\n",
        "Let's see what happens if we extrapolate our data. We'd like to see if dogs that ate meals even higher in protein are expected to get even sicker.\n",
        "\n",
        "Let's start with the _linear regression_. We can set what range we'd like to extrapolate our data over by using the `x_range` argument in the plotting function. Let's extrapolate over the range `[0,100]`:\n"
      ],
      "metadata": {},
      "id": "5cb0355d"
    },
    {
      "cell_type": "code",
      "source": [
        "# Show an extrapolated graph of the linear model\n",
        "graphing.scatter_2D(dataset, label_x=\"protein_content_of_last_meal\", \n",
        "                             label_y=\"core_temperature\",\n",
        "                             # We extrapolate over the following range\n",
        "                             x_range = [0,100],\n",
        "                             trendline=lambda x: simple_model.params[1] * x + simple_model.params[0])\n"
      ],
      "outputs": [],
      "execution_count": null,
      "metadata": {},
      "id": "881d3890"
    },
    {
      "cell_type": "markdown",
      "source": [
        "Next, we extrapolate the _polynomial regression_ over the same range:"
      ],
      "metadata": {},
      "id": "57561d55"
    },
    {
      "cell_type": "code",
      "source": [
        "# Show an extrapolated graph of the polynomial model\n",
        "graphing.scatter_2D(dataset, label_x=\"protein_content_of_last_meal\", \n",
        "                             label_y=\"core_temperature\",\n",
        "                             # We extrapolate over the following range\n",
        "                             x_range = [0,100],\n",
        "                             trendline=lambda x: polynomial_model.params[2] * x**2 + polynomial_model.params[1] * x + polynomial_model.params[0])\n"
      ],
      "outputs": [],
      "execution_count": null,
      "metadata": {},
      "id": "d264380a"
    },
    {
      "attachments": {},
      "cell_type": "markdown",
      "source": [
        "These two graphs predict two very different things!\n",
        "\n",
        "The extrapolated _polynolmial regression_ expects `core_temperature` to go down, while the extrapolated _linear regression_ expects linear expects `core_temperature` to go up.\n",
        "\n",
        "A quick look at the graphs obtained in the previous exercise confirms that we should expect the `core_temeprature` to rise, not fall, as the `protein_content_of_last_meal` increases.\n",
        "\n",
        "In general, it's not recommended to extrapolate from a _polynomial regression_ unless you have an a-priori reason to do so (which is only very rarely the case, so it's best to err on the side of caution, and never extrapolate from  _polynomial regressions_).\n",
        "\n",
        "## Summary\n",
        "\n",
        "We covered the following concepts in this exercise:\n",
        "\n",
        "- Built _simple linear regression_ and _simple polynomial regression_ models.\n",
        "- Compared the performance of both models by plotting them and looking at R-Squared values.\n",
        "- Extrapolated the models over a wider range of values."
      ],
      "metadata": {},
      "id": "32c82a72"
    }
  ],
  "metadata": {
    "kernel_info": {
      "name": "conda-env-azureml_py38-py"
    },
    "kernelspec": {
      "display_name": "py38_default",
      "language": "python",
      "name": "conda-env-azureml_py38-py"
    },
    "language_info": {
      "codemirror_mode": {
        "name": "ipython",
        "version": 3
      },
      "file_extension": ".py",
      "mimetype": "text/x-python",
      "name": "python",
      "nbconvert_exporter": "python",
      "pygments_lexer": "ipython3",
      "version": "3.7.9"
    },
    "nteract": {
      "version": "nteract-front-end@1.0.0"
    },
    "vscode": {
      "interpreter": {
        "hash": "2a35a5d7a1695c145f6d485f5528d9f0e062df43578e4fcb0dcb8fc15dd48b38"
      }
    }
  },
  "nbformat": 4,
  "nbformat_minor": 5
}